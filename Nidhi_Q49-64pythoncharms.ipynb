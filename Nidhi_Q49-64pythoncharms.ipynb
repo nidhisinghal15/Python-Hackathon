{
 "cells": [
  {
   "cell_type": "code",
   "execution_count": 66,
   "id": "e9275c84-ba82-4e04-a7f7-9d6bc41d86d6",
   "metadata": {},
   "outputs": [],
   "source": [
    "import numpy as np\n",
    "import pandas as pd\n",
    "import seaborn as sns\n",
    "import matplotlib.pyplot as plt\n",
    "import warnings\n",
    "import re\n",
    "warnings.simplefilter(action='ignore', category=FutureWarning)\n"
   ]
  },
  {
   "cell_type": "code",
   "execution_count": 67,
   "id": "cc06efaa-d713-48c7-bac3-603463a76bf7",
   "metadata": {},
   "outputs": [
    {
     "name": "stderr",
     "output_type": "stream",
     "text": [
      "/Users/sajal/Documents/LaunchGenAI/.venv/lib/python3.9/site-packages/openpyxl/worksheet/_reader.py:329: UserWarning: Unknown extension is not supported and will be removed\n",
      "  warn(msg)\n",
      "/Users/sajal/Documents/LaunchGenAI/.venv/lib/python3.9/site-packages/openpyxl/worksheet/_reader.py:329: UserWarning: Unknown extension is not supported and will be removed\n",
      "  warn(msg)\n",
      "/Users/sajal/Documents/LaunchGenAI/.venv/lib/python3.9/site-packages/openpyxl/worksheet/_reader.py:329: UserWarning: Unknown extension is not supported and will be removed\n",
      "  warn(msg)\n"
     ]
    },
    {
     "data": {
      "text/html": [
       "<div>\n",
       "<style scoped>\n",
       "    .dataframe tbody tr th:only-of-type {\n",
       "        vertical-align: middle;\n",
       "    }\n",
       "\n",
       "    .dataframe tbody tr th {\n",
       "        vertical-align: top;\n",
       "    }\n",
       "\n",
       "    .dataframe thead th {\n",
       "        text-align: right;\n",
       "    }\n",
       "</style>\n",
       "<table border=\"1\" class=\"dataframe\">\n",
       "  <thead>\n",
       "    <tr style=\"text-align: right;\">\n",
       "      <th></th>\n",
       "      <th>ID</th>\n",
       "      <th>time</th>\n",
       "      <th>RR</th>\n",
       "      <th>VO2</th>\n",
       "      <th>power</th>\n",
       "    </tr>\n",
       "  </thead>\n",
       "  <tbody>\n",
       "    <tr>\n",
       "      <th>0</th>\n",
       "      <td>11</td>\n",
       "      <td>-168.600</td>\n",
       "      <td>727.0</td>\n",
       "      <td>0.287147</td>\n",
       "      <td>0</td>\n",
       "    </tr>\n",
       "    <tr>\n",
       "      <th>1</th>\n",
       "      <td>11</td>\n",
       "      <td>-167.872</td>\n",
       "      <td>728.0</td>\n",
       "      <td>0.287147</td>\n",
       "      <td>0</td>\n",
       "    </tr>\n",
       "    <tr>\n",
       "      <th>2</th>\n",
       "      <td>11</td>\n",
       "      <td>-167.148</td>\n",
       "      <td>724.0</td>\n",
       "      <td>0.287147</td>\n",
       "      <td>0</td>\n",
       "    </tr>\n",
       "    <tr>\n",
       "      <th>3</th>\n",
       "      <td>11</td>\n",
       "      <td>-166.484</td>\n",
       "      <td>664.0</td>\n",
       "      <td>0.320580</td>\n",
       "      <td>0</td>\n",
       "    </tr>\n",
       "    <tr>\n",
       "      <th>4</th>\n",
       "      <td>11</td>\n",
       "      <td>-165.836</td>\n",
       "      <td>648.0</td>\n",
       "      <td>0.320580</td>\n",
       "      <td>0</td>\n",
       "    </tr>\n",
       "  </tbody>\n",
       "</table>\n",
       "</div>"
      ],
      "text/plain": [
       "   ID     time     RR       VO2  power\n",
       "0  11 -168.600  727.0  0.287147      0\n",
       "1  11 -167.872  728.0  0.287147      0\n",
       "2  11 -167.148  724.0  0.287147      0\n",
       "3  11 -166.484  664.0  0.320580      0\n",
       "4  11 -165.836  648.0  0.320580      0"
      ]
     },
     "execution_count": 67,
     "metadata": {},
     "output_type": "execute_result"
    }
   ],
   "source": [
    "Athlete = pd.read_excel(\"V02Max_Combined.xlsx\",sheet_name= \"Athletes\")\n",
    "Kayaking= pd.read_excel(\"V02Max_Combined.xlsx\",sheet_name= \"Kayaking\")\n",
    "Triathlon= pd.read_excel(\"V02Max_Combined.xlsx\",sheet_name= \"Triathlon\")\n",
    "Fencing= pd.read_excel(\"V02Max_Combined.xlsx\",sheet_name= \"Fencing\")\n",
    "Kayaking.head()"
   ]
  },
  {
   "cell_type": "markdown",
   "id": "e8ca57a4-223a-4851-9640-6a8a9dd95538",
   "metadata": {},
   "source": [
    "Q1 Join all sport-related tables to produce one dataframe that has all athletes values. \n",
    "The final table should only have the same 5 columns: ID, time,power,RR, vo2, power.\n",
    "Write this dataframe to an excel file.\n"
   ]
  },
  {
   "cell_type": "code",
   "execution_count": 68,
   "id": "4c640c86-a727-42ca-862d-2cdc44c0e64c",
   "metadata": {},
   "outputs": [
    {
     "data": {
      "text/html": [
       "<div>\n",
       "<style scoped>\n",
       "    .dataframe tbody tr th:only-of-type {\n",
       "        vertical-align: middle;\n",
       "    }\n",
       "\n",
       "    .dataframe tbody tr th {\n",
       "        vertical-align: top;\n",
       "    }\n",
       "\n",
       "    .dataframe thead th {\n",
       "        text-align: right;\n",
       "    }\n",
       "</style>\n",
       "<table border=\"1\" class=\"dataframe\">\n",
       "  <thead>\n",
       "    <tr style=\"text-align: right;\">\n",
       "      <th></th>\n",
       "      <th>ID</th>\n",
       "      <th>time</th>\n",
       "      <th>RR</th>\n",
       "      <th>VO2</th>\n",
       "      <th>power</th>\n",
       "    </tr>\n",
       "  </thead>\n",
       "  <tbody>\n",
       "    <tr>\n",
       "      <th>0</th>\n",
       "      <td>11</td>\n",
       "      <td>-168.600</td>\n",
       "      <td>727.0</td>\n",
       "      <td>0.287147</td>\n",
       "      <td>0</td>\n",
       "    </tr>\n",
       "    <tr>\n",
       "      <th>1</th>\n",
       "      <td>11</td>\n",
       "      <td>-167.872</td>\n",
       "      <td>728.0</td>\n",
       "      <td>0.287147</td>\n",
       "      <td>0</td>\n",
       "    </tr>\n",
       "    <tr>\n",
       "      <th>2</th>\n",
       "      <td>11</td>\n",
       "      <td>-167.148</td>\n",
       "      <td>724.0</td>\n",
       "      <td>0.287147</td>\n",
       "      <td>0</td>\n",
       "    </tr>\n",
       "    <tr>\n",
       "      <th>3</th>\n",
       "      <td>11</td>\n",
       "      <td>-166.484</td>\n",
       "      <td>664.0</td>\n",
       "      <td>0.320580</td>\n",
       "      <td>0</td>\n",
       "    </tr>\n",
       "    <tr>\n",
       "      <th>4</th>\n",
       "      <td>11</td>\n",
       "      <td>-165.836</td>\n",
       "      <td>648.0</td>\n",
       "      <td>0.320580</td>\n",
       "      <td>0</td>\n",
       "    </tr>\n",
       "    <tr>\n",
       "      <th>...</th>\n",
       "      <td>...</td>\n",
       "      <td>...</td>\n",
       "      <td>...</td>\n",
       "      <td>...</td>\n",
       "      <td>...</td>\n",
       "    </tr>\n",
       "    <tr>\n",
       "      <th>27598</th>\n",
       "      <td>10</td>\n",
       "      <td>942.700</td>\n",
       "      <td>428.0</td>\n",
       "      <td>0.786363</td>\n",
       "      <td>0</td>\n",
       "    </tr>\n",
       "    <tr>\n",
       "      <th>27599</th>\n",
       "      <td>10</td>\n",
       "      <td>943.124</td>\n",
       "      <td>424.0</td>\n",
       "      <td>0.786363</td>\n",
       "      <td>0</td>\n",
       "    </tr>\n",
       "    <tr>\n",
       "      <th>27600</th>\n",
       "      <td>10</td>\n",
       "      <td>943.552</td>\n",
       "      <td>428.0</td>\n",
       "      <td>0.786363</td>\n",
       "      <td>0</td>\n",
       "    </tr>\n",
       "    <tr>\n",
       "      <th>27601</th>\n",
       "      <td>10</td>\n",
       "      <td>943.976</td>\n",
       "      <td>424.0</td>\n",
       "      <td>0.786363</td>\n",
       "      <td>0</td>\n",
       "    </tr>\n",
       "    <tr>\n",
       "      <th>27602</th>\n",
       "      <td>10</td>\n",
       "      <td>944.404</td>\n",
       "      <td>428.0</td>\n",
       "      <td>0.786363</td>\n",
       "      <td>0</td>\n",
       "    </tr>\n",
       "  </tbody>\n",
       "</table>\n",
       "<p>52062 rows × 5 columns</p>\n",
       "</div>"
      ],
      "text/plain": [
       "       ID     time     RR       VO2  power\n",
       "0      11 -168.600  727.0  0.287147      0\n",
       "1      11 -167.872  728.0  0.287147      0\n",
       "2      11 -167.148  724.0  0.287147      0\n",
       "3      11 -166.484  664.0  0.320580      0\n",
       "4      11 -165.836  648.0  0.320580      0\n",
       "...    ..      ...    ...       ...    ...\n",
       "27598  10  942.700  428.0  0.786363      0\n",
       "27599  10  943.124  424.0  0.786363      0\n",
       "27600  10  943.552  428.0  0.786363      0\n",
       "27601  10  943.976  424.0  0.786363      0\n",
       "27602  10  944.404  428.0  0.786363      0\n",
       "\n",
       "[52062 rows x 5 columns]"
      ]
     },
     "execution_count": 68,
     "metadata": {},
     "output_type": "execute_result"
    }
   ],
   "source": [
    "dataframe=pd.concat([Kayaking,Triathlon,Fencing])\n",
    "dataframe                    "
   ]
  },
  {
   "cell_type": "markdown",
   "id": "03026f93-0dde-4878-adfb-63ac7615dbef",
   "metadata": {},
   "source": [
    "Q49 Retrieve the row with minimum IBI for fencing athletes using sorting technique."
   ]
  },
  {
   "cell_type": "code",
   "execution_count": null,
   "id": "43198f32-2855-4ca9-a38f-1ff111b97b3e",
   "metadata": {},
   "outputs": [],
   "source": []
  },
  {
   "cell_type": "markdown",
   "id": "23b3ecd8-0da0-45cb-aac9-c00605044b3f",
   "metadata": {},
   "source": [
    "Q50 Create a violin chart using any 2 columns in the dataset"
   ]
  },
  {
   "cell_type": "code",
   "execution_count": 69,
   "id": "577d8e9d-de01-4e90-886b-bd4a1c5fdaa7",
   "metadata": {},
   "outputs": [
    {
     "name": "stderr",
     "output_type": "stream",
     "text": [
      "/Users/sajal/Documents/LaunchGenAI/.venv/lib/python3.9/site-packages/openpyxl/worksheet/_reader.py:329: UserWarning: Unknown extension is not supported and will be removed\n",
      "  warn(msg)\n"
     ]
    },
    {
     "data": {
      "text/plain": [
       "<Axes: xlabel='Gender', ylabel='age'>"
      ]
     },
     "execution_count": 69,
     "metadata": {},
     "output_type": "execute_result"
    },
    {
     "data": {
      "image/png": "[encoded data removed]",
      "text/plain": [
       "<Figure size 640x480 with 1 Axes>"
      ]
     },
     "metadata": {},
     "output_type": "display_data"
    }
   ],
   "source": [
    "Athletes= pd.read_excel(\"V02Max_Combined.xlsx\",sheet_name= \"Athletes\")\n",
    "sns.violinplot(x='Gender',y='age',data= Athletes,inner='quartile',bw=0.5,hue='Gender',palette='RdPu')\n"
   ]
  },
  {
   "cell_type": "markdown",
   "id": "ba8532b3-2301-4efb-9347-6435bbeb9246",
   "metadata": {},
   "source": [
    "Q51 List every athlete’s V02 ml/kg\n"
   ]
  },
  {
   "cell_type": "code",
   "execution_count": 75,
   "id": "bd1101b5-ef25-4486-be64-1a35d3e6d32b",
   "metadata": {},
   "outputs": [
    {
     "name": "stdout",
     "output_type": "stream",
     "text": [
      "Martinez,Olivia has 42.807729834208565 VO2 ml/kg\n",
      "Reynolds,Ethan has 38.63260242786477 VO2 ml/kg\n",
      "Harper,Jackson has 69.7056566894772 VO2 ml/kg\n",
      "Sanchez,Liam has 76.98987795262745 VO2 ml/kg\n",
      "Thompson,Ava has 86.74257928964659 VO2 ml/kg\n",
      "Rodriguez,Sophia has 71.67946489605183 VO2 ml/kg\n",
      "Simmons,Grace has 38.403988289558235 VO2 ml/kg\n",
      "Bennett,Aiden has 44.82209159820312 VO2 ml/kg\n",
      "Price,Chloe has 49.69734195742557 VO2 ml/kg\n",
      "Jordan,Lily has 55.12217097967687 VO2 ml/kg\n",
      "Griffin,Isabella has 89.58690252924528 VO2 ml/kg\n",
      "Dixon,Caleb has 92.25821153298837 VO2 ml/kg\n",
      "Carpenter,Mia has 90.75869314593564 VO2 ml/kg\n",
      "Mitchell,Harper has 54.869902099085074 VO2 ml/kg\n",
      "Wallace,Mason has 66.93606586193701 VO2 ml/kg\n",
      "Anderson,Logan has 69.66162171365058 VO2 ml/kg\n",
      "Foster,Lucas has 73.78980600388472 VO2 ml/kg\n",
      "Myers,Owen has 81.20877534899243 VO2 ml/kg\n"
     ]
    }
   ],
   "source": [
    "df_VO2 = dataframe[['ID','VO2']].groupby(by='ID').sum().reset_index()\n",
    "df_VO2 = df_VO2.merge(Athlete[['ID','First Name','Last Name','Weight']],on='ID')\n",
    "df_VO2['VO2'] /= df_VO2['Weight']\n",
    "for index, data in df_VO2.iterrows():\n",
    "    print(f\"{data['Last Name']},{data['First Name']} has {data['VO2']} VO2 ml/kg\")"
   ]
  },
  {
   "cell_type": "markdown",
   "id": "03ecacaf-aa1f-413a-a9db-4755824d1a30",
   "metadata": {},
   "source": [
    "Q52 Using all markers of fitness available to you, who is fittest athlete. Write 1-2 lines about the analysis that led to your insight."
   ]
  },
  {
   "cell_type": "code",
   "execution_count": null,
   "id": "50c2c1c5-4cc4-45ff-83aa-36dc5764136e",
   "metadata": {},
   "outputs": [],
   "source": []
  },
  {
   "cell_type": "markdown",
   "id": "0f8ed7e8-8ea8-4906-9c21-63cb44b754c1",
   "metadata": {},
   "source": [
    "Q53 phonebook={\"john\":938477566,\"Jack\":938377264,\"Jill\":947662781}  ,find the phone number of Jill\n"
   ]
  },
  {
   "cell_type": "code",
   "execution_count": 48,
   "id": "44a8d68e-01bc-433f-84be-7f6a1900efc6",
   "metadata": {},
   "outputs": [
    {
     "name": "stdout",
     "output_type": "stream",
     "text": [
      "Jill's phone number is 947662781\n"
     ]
    }
   ],
   "source": [
    "phonebook={\"john\":938477566,\"Jack\":938377264,\"Jill\":947662781}\n",
    "Jill_phno=phonebook[\"Jill\"]\n",
    "print(\"Jill's phone number is\",Jill_phno)\n"
   ]
  },
  {
   "cell_type": "markdown",
   "id": "648b9f31-6269-4c55-81c3-16ca8f76da4b",
   "metadata": {},
   "source": [
    "Q54 Create a Pie chart for  Athletes and explode the widge with Highest V02 kg/ml in and Label by Athlete ID"
   ]
  },
  {
   "cell_type": "code",
   "execution_count": 20,
   "id": "38c7daab-db05-488b-b875-bd3b654cc877",
   "metadata": {},
   "outputs": [
    {
     "data": {
      "image/png": "[encoded data removed]",
      "text/plain": [
       "<Figure size 640x480 with 1 Axes>"
      ]
     },
     "metadata": {},
     "output_type": "display_data"
    }
   ],
   "source": [
    "fig, ax = plt.subplots()\n",
    "explode = df_VO2['VO2'].apply(lambda x: 0.1 if x==max(df_VO2['VO2']) else 0)\n",
    "ax.pie(df_VO2['VO2'], labels=df_VO2.index, explode=explode)\n",
    "plt.show()"
   ]
  },
  {
   "cell_type": "markdown",
   "id": "ad98517b-1941-4042-b7ae-bbb590434404",
   "metadata": {},
   "source": [
    "Q55 Using a for loop iterate through HR for all trathletes and display all details of the athlete with the highest heart rate"
   ]
  },
  {
   "cell_type": "code",
   "execution_count": null,
   "id": "8bf4240f-97b0-4ba2-b372-b507b20a1710",
   "metadata": {},
   "outputs": [],
   "source": []
  },
  {
   "cell_type": "markdown",
   "id": "6563de78-6095-4a93-a76c-afeaf95377de",
   "metadata": {},
   "source": [
    "Q56 Display a histogram to show distribution of athletes by sport."
   ]
  },
  {
   "cell_type": "code",
   "execution_count": 80,
   "id": "5ae1150e-f1e5-4063-ae75-20991cf5922a",
   "metadata": {},
   "outputs": [
    {
     "name": "stderr",
     "output_type": "stream",
     "text": [
      "C:\\Users\\Nidhi\\anaconda3\\Lib\\site-packages\\openpyxl\\worksheet\\_read_only.py:81: UserWarning: Unknown extension is not supported and will be removed\n",
      "  for idx, row in parser.parse():\n"
     ]
    },
    {
     "data": {
      "text/plain": [
       "Text(0, 0.5, 'Frequency')"
      ]
     },
     "execution_count": 80,
     "metadata": {},
     "output_type": "execute_result"
    },
    {
     "data": {
      "image/png": "[encoded data removed]",
      "text/plain": [
       "<Figure size 500x400 with 1 Axes>"
      ]
     },
     "metadata": {},
     "output_type": "display_data"
    }
   ],
   "source": [
    "plt.figure(figsize=(5,4))\n",
    "Athletes= pd.read_excel(\"V02Max_Combined.xlsx\",sheet_name= \"Athletes\")\n",
    "Athletes['sport'].hist(color='purple',grid= False)\n",
    "\n",
    "#add labels and title\n",
    "plt.title('Athletes distribution by sport',fontsize=12,color='green')\n",
    "plt.xlabel('sport',fontsize=10,color='green')\n",
    "plt.ylabel('Frequency',fontsize=10,color='green')\n",
    "\n",
    "\n"
   ]
  },
  {
   "cell_type": "markdown",
   "id": "87e80436-a6ce-4403-9ccf-f48f5aafcd93",
   "metadata": {},
   "source": [
    "Q57 get the first letter of last name of students using for loops and RegEX"
   ]
  },
  {
   "cell_type": "code",
   "execution_count": 30,
   "id": "02645ccb-427d-4dd5-8ab4-0930c015dce5",
   "metadata": {},
   "outputs": [
    {
     "name": "stdout",
     "output_type": "stream",
     "text": [
      "M\n",
      "R\n",
      "H\n",
      "S\n",
      "T\n",
      "R\n",
      "S\n",
      "B\n",
      "P\n",
      "J\n",
      "G\n",
      "D\n",
      "C\n",
      "M\n",
      "W\n",
      "A\n",
      "F\n",
      "M\n"
     ]
    }
   ],
   "source": [
    "for i in Athlete['Last Name']:\n",
    "    print(re.search('^.',i).group())"
   ]
  },
  {
   "cell_type": "markdown",
   "id": "1f7b4c63-12ba-4443-9e7f-de4fa462a351",
   "metadata": {},
   "source": [
    "Q58 What is the average % difference in heart rate between warm up and GET for all athletes?"
   ]
  },
  {
   "cell_type": "code",
   "execution_count": null,
   "id": "c3e8fcac-d16e-45d8-a01b-c0022eaf2398",
   "metadata": {},
   "outputs": [],
   "source": []
  },
  {
   "cell_type": "markdown",
   "id": "a6732fe7-64e3-4152-9120-f2590cbc0f70",
   "metadata": {},
   "source": [
    "Q59 Who is the tallest athlete in the dataset. What is his sport and his Vo2 ml/kg?"
   ]
  },
  {
   "cell_type": "code",
   "execution_count": 82,
   "id": "0ee59f37-766e-47e1-9d85-6ad5382e9c8c",
   "metadata": {},
   "outputs": [
    {
     "name": "stdout",
     "output_type": "stream",
     "text": [
      "Harper,Jackson is the tallest Athlete. His sport is fencing and his VO2 ml/kg is 69.7056566894772\n"
     ]
    }
   ],
   "source": [
    "tallest_athlete= Athlete.iloc[Athlete['Height'].idxmax()]\n",
    "print(f\"{tallest_athlete['Last Name']},{tallest_athlete['First Name']} is the tallest Athlete. His sport is {tallest_athlete['sport']} and his VO2 ml/kg is {df_VO2[df_VO2['ID']==tallest_athlete['ID']]['VO2'].values[0]}\")"
   ]
  },
  {
   "cell_type": "markdown",
   "id": "9581101a-28b7-495e-a4aa-d1d9e3e3da83",
   "metadata": {},
   "source": [
    "Q60 get the last letter      of athletes last names using RegEX"
   ]
  },
  {
   "cell_type": "code",
   "execution_count": 32,
   "id": "3be4d43e-3420-4f59-8141-2f7fabcb30a2",
   "metadata": {},
   "outputs": [
    {
     "data": {
      "text/plain": [
       "0     z\n",
       "1     s\n",
       "2     r\n",
       "3     z\n",
       "4     n\n",
       "5     z\n",
       "6     s\n",
       "7     t\n",
       "8     e\n",
       "9     n\n",
       "10    n\n",
       "11    n\n",
       "12    r\n",
       "13    l\n",
       "14    e\n",
       "15    n\n",
       "16    r\n",
       "17    s\n",
       "Name: Last Name, dtype: object"
      ]
     },
     "execution_count": 32,
     "metadata": {},
     "output_type": "execute_result"
    }
   ],
   "source": [
    "Athlete['Last Name'].apply(lambda x:re.search('(.)$',x).group())"
   ]
  },
  {
   "cell_type": "markdown",
   "id": "a964059d-12d5-47ba-bd03-1e0d4cf0d8b4",
   "metadata": {},
   "source": [
    "Q61 Reverse an arrays order in Python. You can use any array with any values you like."
   ]
  },
  {
   "cell_type": "code",
   "execution_count": 33,
   "id": "fc1fb5d9-0eb4-4b4d-99c7-8427f05cebcb",
   "metadata": {},
   "outputs": [
    {
     "name": "stdout",
     "output_type": "stream",
     "text": [
      "[5, 4, 3, 2, 1]\n"
     ]
    }
   ],
   "source": [
    "array = [1,2,3,4,5]\n",
    "print(array[::-1])"
   ]
  },
  {
   "cell_type": "markdown",
   "id": "36d88405-2c16-45e7-ac75-c7edac8befab",
   "metadata": {},
   "source": [
    "Q62 What is the root mean of successive differences for 30 consecutive minutes for each athlete."
   ]
  },
  {
   "cell_type": "code",
   "execution_count": null,
   "id": "38d3db49-ebac-4865-a8eb-da26ce2dd10e",
   "metadata": {},
   "outputs": [],
   "source": [
    "#Successive differences for what?"
   ]
  },
  {
   "cell_type": "markdown",
   "id": "5fe2d792-7745-49b7-ae85-808fead7f393",
   "metadata": {},
   "source": [
    "Q63 On average how many minutes did each athlete in the sport of fencing spend in Zone 5?"
   ]
  },
  {
   "cell_type": "code",
   "execution_count": 60,
   "id": "1a0f3c47-8c61-47f8-9dc1-78cf20312dad",
   "metadata": {},
   "outputs": [
    {
     "name": "stdout",
     "output_type": "stream",
     "text": [
      "The Average Time spent by athletes in Fencing is: 20.30368 minutes\n"
     ]
    }
   ],
   "source": [
    "#Have to redo\n",
    "total_time = 0\n",
    "for i in Fencing['ID'].unique():\n",
    "    df_temp = Fencing[Fencing['ID']==i]\n",
    "    total_time += (df_temp['time'].iloc[-1]-df_temp['time'].iloc[0])/60 #in minutes\n",
    "print('The Average Time spent by athletes in Fencing is:',total_time/len(Fencing['ID'].unique()),'minutes')\n"
   ]
  },
  {
   "cell_type": "markdown",
   "id": "70595d0f-d3bf-4699-b859-04f7019835ff",
   "metadata": {},
   "source": [
    "Q64 Count athletes based on Gender using count plot"
   ]
  },
  {
   "cell_type": "code",
   "execution_count": 49,
   "id": "a5b99c0c-3fea-42f9-b38b-aedc2996ea51",
   "metadata": {},
   "outputs": [
    {
     "data": {
      "text/plain": [
       "<Axes: xlabel='count', ylabel='Gender'>"
      ]
     },
     "execution_count": 49,
     "metadata": {},
     "output_type": "execute_result"
    },
    {
     "data": {
      "image/png": "[encoded data removed]",
      "text/plain": [
       "<Figure size 640x480 with 1 Axes>"
      ]
     },
     "metadata": {},
     "output_type": "display_data"
    }
   ],
   "source": [
    "sns.countplot(Athlete['Gender'])"
   ]
  }
 ],
 "metadata": {
  "kernelspec": {
   "display_name": "Python 3 (ipykernel)",
   "language": "python",
   "name": "python3"
  },
  "language_info": {
   "codemirror_mode": {
    "name": "ipython",
    "version": 3
   },
   "file_extension": ".py",
   "mimetype": "text/x-python",
   "name": "python",
   "nbconvert_exporter": "python",
   "pygments_lexer": "ipython3",
   "version": "3.9.6"
  }
 },
 "nbformat": 4,
 "nbformat_minor": 5
}
